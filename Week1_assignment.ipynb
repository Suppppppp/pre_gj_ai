{
  "nbformat": 4,
  "nbformat_minor": 0,
  "metadata": {
    "colab": {
      "name": "Week1_assignment",
      "provenance": [],
      "collapsed_sections": [],
      "authorship_tag": "ABX9TyP5TVaqtAP/uvMr78GnKcpb",
      "include_colab_link": true
    },
    "kernelspec": {
      "name": "python3",
      "display_name": "Python 3"
    }
  },
  "cells": [
    {
      "cell_type": "markdown",
      "metadata": {
        "id": "view-in-github",
        "colab_type": "text"
      },
      "source": [
        "<a href=\"https://colab.research.google.com/github/Suppppppp/pre_gj_ai/blob/master/Week1_assignment.ipynb\" target=\"_parent\"><img src=\"https://colab.research.google.com/assets/colab-badge.svg\" alt=\"Open In Colab\"/></a>"
      ]
    },
    {
      "cell_type": "markdown",
      "metadata": {
        "id": "HlZ3uMGWzjHQ",
        "colab_type": "text"
      },
      "source": [
        "# 1주차 과제\n",
        "### 4가지 분야의 기술을 사용하는 제품 및 서비스 작성 및 학습 목표세우기\n",
        "1. 언어\n",
        "2. 음성\n",
        "3. 이미지\n",
        "4. 자율주행\n",
        "5. 학습목표\n"
      ]
    },
    {
      "cell_type": "markdown",
      "metadata": {
        "id": "hBhTlGAh8G7w",
        "colab_type": "text"
      },
      "source": [
        "### 1. 언어"
      ]
    },
    {
      "cell_type": "markdown",
      "metadata": {
        "id": "DfxUTo9eBzrf",
        "colab_type": "text"
      },
      "source": [
        "* **액센츄어(Accenture): 계약서 검토 및 분석** \n",
        "\n",
        "글로벌 컨설팅 기업 액센츄어는 NLP를 계약서 분석에 활용 중이다.\n",
        "\n",
        "해당 기업은 이를 두고 앨리스 프로젝트(ALICE, Accenture's Legal Intelligent Contract Exploration)라고 부르고 있다.\n",
        "\n",
        "2,800명의 전문가로 구성된 법무팀이 100만 건이 넘는 계약서에서 계약 조항을 비롯한 텍스트 검색을 하는 데 이 프로젝트를 이용하고 있다. \n",
        "\n",
        "앨리스는 의미적 유사성을 바탕으로 단어를 비교하는 자연어 처리 방식인 '단어 임베딩(Word Embedding)'을 이용한다.\n",
        "\n",
        "이를 통해 계약 문서를 한 단락씩 검토하고, 핵심어를 찾아 해당 단락이 특정 계약 조항 종류와 연관되는지 파악한다. 예를 들면 ‘홍수’, ‘지진’, ‘재난’ 등과 같은 단어는 ‘불가항력’ 조항과 함께 흔히 쓰인다.\n",
        "\n",
        "\n",
        "액센츄어는 앨리스 프로젝트 덕분에 변호사들이 특정 정보를 찾느라 문서를 직접 읽는 데 걸리는 시간을 크게 줄였다고 밝혔다. \n",
        "\n"
      ]
    },
    {
      "cell_type": "markdown",
      "metadata": {
        "id": "96ViMgJKCxxg",
        "colab_type": "text"
      },
      "source": [
        "### 2. 음성"
      ]
    },
    {
      "cell_type": "markdown",
      "metadata": {
        "id": "96hDvqPQHrM3",
        "colab_type": "text"
      },
      "source": [
        "* 아마존 : 스마트 스피커 에코(Echo)\n",
        "\n",
        "아마존은 2014년 11월 스마트 스피커 에코(Echo)를 출시했다.\n",
        "\n",
        "현재 3세대 제품까지 출시된 에코는 아마존의 음성 AI 비서 플랫폼인 알렉사를 탑재하고 있어 사용자가 음성으로 명령을 내리거나 기기와 대화를 나눌 수 있다.\n",
        "\n",
        "음악 재생, 알람 설정, 날씨 및 교통정보 제공 등 다양한 기능을 제공하며 아마존\n",
        "스킬을 이용한 서드파티 서비스도 계속해서 확장되고 있다.\n",
        "\n",
        "아마존은 2016년 3월에는 에코의 소형 버전인 에코 닷(Echo Dot)을 출시했으며, 이 제품은 하키퍽 형태의 작은 스마트 스피커로 에코의 모든 기능을 담고 있지만\n",
        "스피커의 출력이 낮아졌고 가격도 크게 저렴해졌다.\n",
        "\n",
        "아마존은 에코 닷을 작은 방에 하나씩 놓고 기기 간 페어링을 통해 거실과 방 어디서든 음성 AI 기능을 사용할 수 있게 되는 것을 목표로 하고 있다.\n",
        "\n"
      ]
    },
    {
      "cell_type": "markdown",
      "metadata": {
        "id": "65gZ6dMYIU5J",
        "colab_type": "text"
      },
      "source": [
        "### 3. 이미지"
      ]
    },
    {
      "cell_type": "markdown",
      "metadata": {
        "id": "dY3ftloJIY3B",
        "colab_type": "text"
      },
      "source": [
        "* 수아랩 : 불량검출 기술 (수아킷)\n",
        "\n",
        "수아킷은 이미지 해석 기술을 기반으로, 기존 머신비전 기술로 검사가 어려웠던 다양한 영역을 대상으로 검사의 정확도와 속도를 한층 높였다.\n",
        "\n",
        "기존에는 엔지니어가 이미지 상에서 결함에 대한 정의를 하나하나 내리고, 결함의 특징값을 수동으로 설정해야 했다. 때문에 반도체나 LCD처럼 표면 형태가 정형화되어 있는 분야에서만 머신비전 기술이 활용이 가능했다.\n",
        "\n",
        "반대로 섬유나 천연가죽 등 표면 형태가 비정형화되어 있는 분야에서는 결함의 특징값을 수동으로 설정하기가 어려워, 육안검사에 의존하는 경우가 대부분이었다.\n",
        "\n",
        "이 한계를 극복한 비밀이 바로 수아킷의 딥러닝 기술이다.\n",
        "\n",
        "소수의 정상품 이미지와 불량품 이미지를 모아서 딥러닝 알고리즘을 학습시키면, 인공지능 신경망이 결함의 특징값을 스스로 찾아낸다.\n",
        "\n",
        "결함의 특징값을 수동으로 설정할 필요가 없기 때문에 표면 형태가 불규칙한 섬유, 가죽 등의 제조업 분야에서도 활용이 가능하다. 그 뿐 아니라 태양광, 카메라, PCB 등 이미 머신비전 기술이 활용되던 영역에서도 더욱 높은 정확도와 빠른 속도로 불량을 검출하고 분류할 수 있다. "
      ]
    },
    {
      "cell_type": "markdown",
      "metadata": {
        "id": "UCd9_0ZsO-7u",
        "colab_type": "text"
      },
      "source": [
        "### 4. 자율주행"
      ]
    },
    {
      "cell_type": "markdown",
      "metadata": {
        "id": "4ce_KRRWQnG9",
        "colab_type": "text"
      },
      "source": [
        "* 테슬라 : 자율주행자동차 \n",
        "\n",
        "전기차 혁신 기업인 태슬라는 디음 혁신을 인공기능에 기반한 자율주행 자동차 구현에서 만들어가고 있습니다.\n",
        "\n",
        "'Autopilot’이라 불리는 반자율주행（semi Auonomou Orinn a) 기능을 시장에서 가장 안정적으로 상용화시키며 관련 기슬을 빼르게 발전시켜 나가고 있고 테슬라의 Autopilot 기능은 일반적인 차선 유지 차간 거리 조정 등과 같은 기능 보다 더욱 진화된 차선변경, 자동 차고 입/출입 등과 같은 기능들을 포함하고 있습니다. \n",
        "\n",
        "테슬라의 Autopilot은 차량에서 발생하는 거의 모든 데이터를 수집히고 분석해 인공지능 구현. 테슬리의 모든 차량은 3G LTE와 같은 통신망으로 연결되어 차량에서 발생하는 모든 정보가 익명화되어 수집된다\n",
        "\n"
      ]
    },
    {
      "cell_type": "markdown",
      "metadata": {
        "id": "1LT2-r7eTnQZ",
        "colab_type": "text"
      },
      "source": [
        "### 5. 학습목표"
      ]
    },
    {
      "cell_type": "markdown",
      "metadata": {
        "id": "1gDh9DIxTvZ1",
        "colab_type": "text"
      },
      "source": [
        "**학습목표**\n",
        "\n",
        "개인적으로 Computer vision분야에 관심이 있어 인공지능 분야를 혼자 공부할때도 그쪽 방향으로 생각하며 공부를 해왔고 또 vision을 응용한 자율주행에 큰 관심을 가지고 있었습니다. \n",
        "\n",
        "앞으로 수업이 진행되는 동안 vision/ 자율주행등에 뛰어들 수 있는 실력을 가질 수 있도록 열심히 노력해갈 생각입니다. "
      ]
    }
  ]
}